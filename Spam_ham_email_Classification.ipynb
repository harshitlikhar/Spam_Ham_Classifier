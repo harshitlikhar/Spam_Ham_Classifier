{
  "cells": [
    {
      "cell_type": "markdown",
      "source": [
        "## BOW: Count Vectorizer"
      ],
      "metadata": {
        "id": "I6oYZCZ6j4oS"
      },
      "id": "I6oYZCZ6j4oS"
    },
    {
      "cell_type": "code",
      "source": [
        "import pandas as pd\n",
        "import numpy as np\n",
        "import nltk\n",
        "from nltk.corpus import stopwords\n",
        "import string\n",
        "import scipy\n",
        "import matplotlib.pyplot as plt\n",
        "import seaborn as sns\n",
        "import re\n",
        "import nltk\n",
        "from nltk.corpus import stopwords\n",
        "from nltk.stem import SnowballStemmer, PorterStemmer\n",
        "import math\n",
        "from collections import Counter\n",
        "from sklearn.feature_extraction.text import TfidfVectorizer, CountVectorizer\n",
        "from sklearn.model_selection import train_test_split\n",
        "from sklearn.metrics import roc_auc_score, roc_curve, auc, mean_squared_error\n",
        "from sklearn.decomposition import TruncatedSVD, PCA\n",
        "from sklearn.linear_model import LinearRegression, SGDRegressor, LogisticRegression\n",
        "from sklearn.svm import SVR\n",
        "from sklearn.tree import DecisionTreeRegressor\n",
        "from sklearn.ensemble import RandomForestRegressor, AdaBoostRegressor\n",
        "from xgboost import XGBRegressor\n",
        "from sklearn.preprocessing import LabelEncoder\n",
        "from sklearn.tree import DecisionTreeClassifier"
      ],
      "metadata": {
        "id": "2KFkJ7Myj4fM"
      },
      "id": "2KFkJ7Myj4fM",
      "execution_count": null,
      "outputs": []
    },
    {
      "cell_type": "code",
      "source": [
        "df = pd.read_csv('/content/aditi_nlp.csv')\n",
        "df.head()"
      ],
      "metadata": {
        "colab": {
          "base_uri": "https://localhost:8080/",
          "height": 206
        },
        "id": "YwTUvX89j0Ch",
        "outputId": "61d29b0d-4eb0-42ef-acd3-f1c02809bf78"
      },
      "id": "YwTUvX89j0Ch",
      "execution_count": null,
      "outputs": [
        {
          "output_type": "execute_result",
          "data": {
            "text/plain": [
              "  Category                                            Message\n",
              "0      ham  Go until jurong point, crazy.. Available only ...\n",
              "1      ham                      Ok lar... Joking wif u oni...\n",
              "2     spam  Free entry in 2 a wkly comp to win FA Cup fina...\n",
              "3      ham  U dun say so early hor... U c already then say...\n",
              "4      ham  Nah I don't think he goes to usf, he lives aro..."
            ],
            "text/html": [
              "\n",
              "  <div id=\"df-3a5bb7b5-8e50-461a-be82-47c8ba341a80\">\n",
              "    <div class=\"colab-df-container\">\n",
              "      <div>\n",
              "<style scoped>\n",
              "    .dataframe tbody tr th:only-of-type {\n",
              "        vertical-align: middle;\n",
              "    }\n",
              "\n",
              "    .dataframe tbody tr th {\n",
              "        vertical-align: top;\n",
              "    }\n",
              "\n",
              "    .dataframe thead th {\n",
              "        text-align: right;\n",
              "    }\n",
              "</style>\n",
              "<table border=\"1\" class=\"dataframe\">\n",
              "  <thead>\n",
              "    <tr style=\"text-align: right;\">\n",
              "      <th></th>\n",
              "      <th>Category</th>\n",
              "      <th>Message</th>\n",
              "    </tr>\n",
              "  </thead>\n",
              "  <tbody>\n",
              "    <tr>\n",
              "      <th>0</th>\n",
              "      <td>ham</td>\n",
              "      <td>Go until jurong point, crazy.. Available only ...</td>\n",
              "    </tr>\n",
              "    <tr>\n",
              "      <th>1</th>\n",
              "      <td>ham</td>\n",
              "      <td>Ok lar... Joking wif u oni...</td>\n",
              "    </tr>\n",
              "    <tr>\n",
              "      <th>2</th>\n",
              "      <td>spam</td>\n",
              "      <td>Free entry in 2 a wkly comp to win FA Cup fina...</td>\n",
              "    </tr>\n",
              "    <tr>\n",
              "      <th>3</th>\n",
              "      <td>ham</td>\n",
              "      <td>U dun say so early hor... U c already then say...</td>\n",
              "    </tr>\n",
              "    <tr>\n",
              "      <th>4</th>\n",
              "      <td>ham</td>\n",
              "      <td>Nah I don't think he goes to usf, he lives aro...</td>\n",
              "    </tr>\n",
              "  </tbody>\n",
              "</table>\n",
              "</div>\n",
              "      <button class=\"colab-df-convert\" onclick=\"convertToInteractive('df-3a5bb7b5-8e50-461a-be82-47c8ba341a80')\"\n",
              "              title=\"Convert this dataframe to an interactive table.\"\n",
              "              style=\"display:none;\">\n",
              "        \n",
              "  <svg xmlns=\"http://www.w3.org/2000/svg\" height=\"24px\"viewBox=\"0 0 24 24\"\n",
              "       width=\"24px\">\n",
              "    <path d=\"M0 0h24v24H0V0z\" fill=\"none\"/>\n",
              "    <path d=\"M18.56 5.44l.94 2.06.94-2.06 2.06-.94-2.06-.94-.94-2.06-.94 2.06-2.06.94zm-11 1L8.5 8.5l.94-2.06 2.06-.94-2.06-.94L8.5 2.5l-.94 2.06-2.06.94zm10 10l.94 2.06.94-2.06 2.06-.94-2.06-.94-.94-2.06-.94 2.06-2.06.94z\"/><path d=\"M17.41 7.96l-1.37-1.37c-.4-.4-.92-.59-1.43-.59-.52 0-1.04.2-1.43.59L10.3 9.45l-7.72 7.72c-.78.78-.78 2.05 0 2.83L4 21.41c.39.39.9.59 1.41.59.51 0 1.02-.2 1.41-.59l7.78-7.78 2.81-2.81c.8-.78.8-2.07 0-2.86zM5.41 20L4 18.59l7.72-7.72 1.47 1.35L5.41 20z\"/>\n",
              "  </svg>\n",
              "      </button>\n",
              "      \n",
              "  <style>\n",
              "    .colab-df-container {\n",
              "      display:flex;\n",
              "      flex-wrap:wrap;\n",
              "      gap: 12px;\n",
              "    }\n",
              "\n",
              "    .colab-df-convert {\n",
              "      background-color: #E8F0FE;\n",
              "      border: none;\n",
              "      border-radius: 50%;\n",
              "      cursor: pointer;\n",
              "      display: none;\n",
              "      fill: #1967D2;\n",
              "      height: 32px;\n",
              "      padding: 0 0 0 0;\n",
              "      width: 32px;\n",
              "    }\n",
              "\n",
              "    .colab-df-convert:hover {\n",
              "      background-color: #E2EBFA;\n",
              "      box-shadow: 0px 1px 2px rgba(60, 64, 67, 0.3), 0px 1px 3px 1px rgba(60, 64, 67, 0.15);\n",
              "      fill: #174EA6;\n",
              "    }\n",
              "\n",
              "    [theme=dark] .colab-df-convert {\n",
              "      background-color: #3B4455;\n",
              "      fill: #D2E3FC;\n",
              "    }\n",
              "\n",
              "    [theme=dark] .colab-df-convert:hover {\n",
              "      background-color: #434B5C;\n",
              "      box-shadow: 0px 1px 3px 1px rgba(0, 0, 0, 0.15);\n",
              "      filter: drop-shadow(0px 1px 2px rgba(0, 0, 0, 0.3));\n",
              "      fill: #FFFFFF;\n",
              "    }\n",
              "  </style>\n",
              "\n",
              "      <script>\n",
              "        const buttonEl =\n",
              "          document.querySelector('#df-3a5bb7b5-8e50-461a-be82-47c8ba341a80 button.colab-df-convert');\n",
              "        buttonEl.style.display =\n",
              "          google.colab.kernel.accessAllowed ? 'block' : 'none';\n",
              "\n",
              "        async function convertToInteractive(key) {\n",
              "          const element = document.querySelector('#df-3a5bb7b5-8e50-461a-be82-47c8ba341a80');\n",
              "          const dataTable =\n",
              "            await google.colab.kernel.invokeFunction('convertToInteractive',\n",
              "                                                     [key], {});\n",
              "          if (!dataTable) return;\n",
              "\n",
              "          const docLinkHtml = 'Like what you see? Visit the ' +\n",
              "            '<a target=\"_blank\" href=https://colab.research.google.com/notebooks/data_table.ipynb>data table notebook</a>'\n",
              "            + ' to learn more about interactive tables.';\n",
              "          element.innerHTML = '';\n",
              "          dataTable['output_type'] = 'display_data';\n",
              "          await google.colab.output.renderOutput(dataTable, element);\n",
              "          const docLink = document.createElement('div');\n",
              "          docLink.innerHTML = docLinkHtml;\n",
              "          element.appendChild(docLink);\n",
              "        }\n",
              "      </script>\n",
              "    </div>\n",
              "  </div>\n",
              "  "
            ]
          },
          "metadata": {},
          "execution_count": 23
        }
      ]
    },
    {
      "cell_type": "code",
      "source": [],
      "metadata": {
        "id": "FtIH90BDlWQl"
      },
      "id": "FtIH90BDlWQl",
      "execution_count": null,
      "outputs": []
    },
    {
      "cell_type": "code",
      "source": [
        "df['Message']=df['Message'].apply(lambda x: x.strip())    \n",
        "df['Message']=df['Message'].apply(lambda x: x.lower())    \n",
        "df['Message']=df['Message'].apply(lambda x: x.encode('ascii', 'ignore').decode())   \n",
        "def remove_punct(text):\n",
        "    text = re.sub(\"https*\\S+\", \" \", text)\n",
        "    text = re.sub(\"@\\S+\", \" \", text)\n",
        "    text = re.sub(\"#\\S+\", \" \", text)\n",
        "    text = re.sub(\"\\'\\w+\", '', text)\n",
        "    text = re.sub('[%s]' % re.escape(string.punctuation), ' ', text)\n",
        "    text = re.sub(r'\\w*\\d+\\w*', '', text)\n",
        "    text = re.sub('\\s{2,}', \" \", text)\n",
        "    return text\n",
        "\n",
        "df['Message']=df['Message'].apply(lambda x: remove_punct(x))"
      ],
      "metadata": {
        "id": "V5rRFLFWkgxu"
      },
      "id": "V5rRFLFWkgxu",
      "execution_count": null,
      "outputs": []
    },
    {
      "cell_type": "code",
      "source": [
        "df['Message']"
      ],
      "metadata": {
        "colab": {
          "base_uri": "https://localhost:8080/"
        },
        "id": "ibewU1LLliRt",
        "outputId": "634074a4-7571-4934-af39-3f801b3cb2b7"
      },
      "id": "ibewU1LLliRt",
      "execution_count": null,
      "outputs": [
        {
          "output_type": "execute_result",
          "data": {
            "text/plain": [
              "0       go until jurong point crazy available only in ...\n",
              "1                                ok lar joking wif u oni \n",
              "2       free entry in a wkly comp to win fa cup final ...\n",
              "3            u dun say so early hor u c already then say \n",
              "4       nah i don think he goes to usf he lives around...\n",
              "                              ...                        \n",
              "5567    this is the time we have tried contact u u hav...\n",
              "5568                   will b going to esplanade fr home \n",
              "5569    pity was in mood for that so any other suggest...\n",
              "5570    the guy did some bitching but i acted like i b...\n",
              "5571                            rofl its true to its name\n",
              "Name: Message, Length: 5572, dtype: object"
            ]
          },
          "metadata": {},
          "execution_count": 25
        }
      ]
    },
    {
      "cell_type": "code",
      "source": [
        "le = LabelEncoder()\n",
        "df['Category'] = le.fit_transform(df['Category'])"
      ],
      "metadata": {
        "id": "olcozvR0mBsZ"
      },
      "id": "olcozvR0mBsZ",
      "execution_count": null,
      "outputs": []
    },
    {
      "cell_type": "code",
      "source": [
        "X, y = df.Message , df['Category']"
      ],
      "metadata": {
        "id": "XM0xnBzYlUQL"
      },
      "id": "XM0xnBzYlUQL",
      "execution_count": null,
      "outputs": []
    },
    {
      "cell_type": "code",
      "source": [
        "X_train, X_test, y_train, y_test = train_test_split(X, y, test_size=0.25, random_state=42)"
      ],
      "metadata": {
        "id": "VNc3JvJ-loRk"
      },
      "id": "VNc3JvJ-loRk",
      "execution_count": null,
      "outputs": []
    },
    {
      "cell_type": "code",
      "source": [
        "df['Category'].value_counts()"
      ],
      "metadata": {
        "colab": {
          "base_uri": "https://localhost:8080/"
        },
        "id": "OdjrkQk_mWYb",
        "outputId": "e8c076b9-612e-40a3-9eab-46cc08b31a75"
      },
      "id": "OdjrkQk_mWYb",
      "execution_count": null,
      "outputs": [
        {
          "output_type": "execute_result",
          "data": {
            "text/plain": [
              "0    4825\n",
              "1     747\n",
              "Name: Category, dtype: int64"
            ]
          },
          "metadata": {},
          "execution_count": 29
        }
      ]
    },
    {
      "cell_type": "markdown",
      "source": [
        "##CV"
      ],
      "metadata": {
        "id": "GDVZkLpUlsrJ"
      },
      "id": "GDVZkLpUlsrJ"
    },
    {
      "cell_type": "code",
      "source": [
        "vectorizer = CountVectorizer(max_features = 600, stop_words = 'english')\n",
        "X_train_cv = vectorizer.fit_transform(X_train).toarray()\n",
        "X_test_cv = vectorizer.fit_transform(X_test).toarray()"
      ],
      "metadata": {
        "id": "SgD2LIqelqTB"
      },
      "id": "SgD2LIqelqTB",
      "execution_count": null,
      "outputs": []
    },
    {
      "cell_type": "code",
      "source": [
        "from sklearn.ensemble import RandomForestClassifier\n",
        "\n",
        "dt = LogisticRegression()\n",
        "dt.fit(X_train_cv, y_train)\n",
        "predictions_dt = dt.predict(X_test_cv)"
      ],
      "metadata": {
        "id": "zodnN3OolzVA"
      },
      "id": "zodnN3OolzVA",
      "execution_count": null,
      "outputs": []
    },
    {
      "cell_type": "code",
      "source": [
        "from sklearn.metrics import accuracy_score, confusion_matrix, roc_auc_score, recall_score, precision_score, classification_report\n",
        "\n",
        "print(classification_report(y_test,predictions_dt))"
      ],
      "metadata": {
        "colab": {
          "base_uri": "https://localhost:8080/"
        },
        "id": "EBlav2sBl_M7",
        "outputId": "ea12bcb4-5cc9-4f98-c999-3b20d814b375"
      },
      "id": "EBlav2sBl_M7",
      "execution_count": null,
      "outputs": [
        {
          "output_type": "stream",
          "name": "stdout",
          "text": [
            "              precision    recall  f1-score   support\n",
            "\n",
            "           0       0.88      0.99      0.93      1207\n",
            "           1       0.65      0.16      0.26       186\n",
            "\n",
            "    accuracy                           0.88      1393\n",
            "   macro avg       0.77      0.57      0.60      1393\n",
            "weighted avg       0.85      0.88      0.84      1393\n",
            "\n"
          ]
        }
      ]
    },
    {
      "cell_type": "markdown",
      "source": [
        "##TF-IDF"
      ],
      "metadata": {
        "id": "Im7PE2y3mqIC"
      },
      "id": "Im7PE2y3mqIC"
    },
    {
      "cell_type": "code",
      "source": [
        "from sklearn.feature_extraction.text import TfidfVectorizer\n",
        "\n",
        "tfIdf= TfidfVectorizer(stop_words='english', max_features=3269)\n",
        "X_train_tfidf = tfIdf.fit_transform(X_train)\n",
        "X_test_tfidf = tfIdf.fit_transform(X_test)"
      ],
      "metadata": {
        "id": "kC-fC-pwmSgF"
      },
      "id": "kC-fC-pwmSgF",
      "execution_count": null,
      "outputs": []
    },
    {
      "cell_type": "code",
      "source": [
        "dt_tf = DecisionTreeClassifier()\n",
        "dt_tf.fit(X_train_tfidf, y_train)\n",
        "predictions_dt_tfidf = dt_tf.predict(X_test_tfidf)\n",
        "print(classification_report(y_test,predictions_dt_tfidf))"
      ],
      "metadata": {
        "colab": {
          "base_uri": "https://localhost:8080/"
        },
        "id": "E7fcSeU7mv6l",
        "outputId": "32639037-98f0-4c72-ebcd-2762acd75369"
      },
      "id": "E7fcSeU7mv6l",
      "execution_count": null,
      "outputs": [
        {
          "output_type": "stream",
          "name": "stdout",
          "text": [
            "              precision    recall  f1-score   support\n",
            "\n",
            "           0       0.87      0.94      0.91      1207\n",
            "           1       0.21      0.10      0.13       186\n",
            "\n",
            "    accuracy                           0.83      1393\n",
            "   macro avg       0.54      0.52      0.52      1393\n",
            "weighted avg       0.78      0.83      0.80      1393\n",
            "\n"
          ]
        }
      ]
    },
    {
      "cell_type": "markdown",
      "source": [
        "## Word2Vec"
      ],
      "metadata": {
        "id": "SjLNqeJjn8Av"
      },
      "id": "SjLNqeJjn8Av"
    },
    {
      "cell_type": "code",
      "source": [
        "df.head()"
      ],
      "metadata": {
        "colab": {
          "base_uri": "https://localhost:8080/",
          "height": 206
        },
        "id": "3hYgKIR5m8W4",
        "outputId": "8ab84e07-33c3-42ae-e048-40df083a5c24"
      },
      "id": "3hYgKIR5m8W4",
      "execution_count": null,
      "outputs": [
        {
          "output_type": "execute_result",
          "data": {
            "text/plain": [
              "   Category                                            Message\n",
              "0         0  go until jurong point crazy available only in ...\n",
              "1         0                           ok lar joking wif u oni \n",
              "2         1  free entry in a wkly comp to win fa cup final ...\n",
              "3         0       u dun say so early hor u c already then say \n",
              "4         0  nah i don think he goes to usf he lives around..."
            ],
            "text/html": [
              "\n",
              "  <div id=\"df-85454cf2-1e19-4baf-b6bc-0af9921774b9\">\n",
              "    <div class=\"colab-df-container\">\n",
              "      <div>\n",
              "<style scoped>\n",
              "    .dataframe tbody tr th:only-of-type {\n",
              "        vertical-align: middle;\n",
              "    }\n",
              "\n",
              "    .dataframe tbody tr th {\n",
              "        vertical-align: top;\n",
              "    }\n",
              "\n",
              "    .dataframe thead th {\n",
              "        text-align: right;\n",
              "    }\n",
              "</style>\n",
              "<table border=\"1\" class=\"dataframe\">\n",
              "  <thead>\n",
              "    <tr style=\"text-align: right;\">\n",
              "      <th></th>\n",
              "      <th>Category</th>\n",
              "      <th>Message</th>\n",
              "    </tr>\n",
              "  </thead>\n",
              "  <tbody>\n",
              "    <tr>\n",
              "      <th>0</th>\n",
              "      <td>0</td>\n",
              "      <td>go until jurong point crazy available only in ...</td>\n",
              "    </tr>\n",
              "    <tr>\n",
              "      <th>1</th>\n",
              "      <td>0</td>\n",
              "      <td>ok lar joking wif u oni</td>\n",
              "    </tr>\n",
              "    <tr>\n",
              "      <th>2</th>\n",
              "      <td>1</td>\n",
              "      <td>free entry in a wkly comp to win fa cup final ...</td>\n",
              "    </tr>\n",
              "    <tr>\n",
              "      <th>3</th>\n",
              "      <td>0</td>\n",
              "      <td>u dun say so early hor u c already then say</td>\n",
              "    </tr>\n",
              "    <tr>\n",
              "      <th>4</th>\n",
              "      <td>0</td>\n",
              "      <td>nah i don think he goes to usf he lives around...</td>\n",
              "    </tr>\n",
              "  </tbody>\n",
              "</table>\n",
              "</div>\n",
              "      <button class=\"colab-df-convert\" onclick=\"convertToInteractive('df-85454cf2-1e19-4baf-b6bc-0af9921774b9')\"\n",
              "              title=\"Convert this dataframe to an interactive table.\"\n",
              "              style=\"display:none;\">\n",
              "        \n",
              "  <svg xmlns=\"http://www.w3.org/2000/svg\" height=\"24px\"viewBox=\"0 0 24 24\"\n",
              "       width=\"24px\">\n",
              "    <path d=\"M0 0h24v24H0V0z\" fill=\"none\"/>\n",
              "    <path d=\"M18.56 5.44l.94 2.06.94-2.06 2.06-.94-2.06-.94-.94-2.06-.94 2.06-2.06.94zm-11 1L8.5 8.5l.94-2.06 2.06-.94-2.06-.94L8.5 2.5l-.94 2.06-2.06.94zm10 10l.94 2.06.94-2.06 2.06-.94-2.06-.94-.94-2.06-.94 2.06-2.06.94z\"/><path d=\"M17.41 7.96l-1.37-1.37c-.4-.4-.92-.59-1.43-.59-.52 0-1.04.2-1.43.59L10.3 9.45l-7.72 7.72c-.78.78-.78 2.05 0 2.83L4 21.41c.39.39.9.59 1.41.59.51 0 1.02-.2 1.41-.59l7.78-7.78 2.81-2.81c.8-.78.8-2.07 0-2.86zM5.41 20L4 18.59l7.72-7.72 1.47 1.35L5.41 20z\"/>\n",
              "  </svg>\n",
              "      </button>\n",
              "      \n",
              "  <style>\n",
              "    .colab-df-container {\n",
              "      display:flex;\n",
              "      flex-wrap:wrap;\n",
              "      gap: 12px;\n",
              "    }\n",
              "\n",
              "    .colab-df-convert {\n",
              "      background-color: #E8F0FE;\n",
              "      border: none;\n",
              "      border-radius: 50%;\n",
              "      cursor: pointer;\n",
              "      display: none;\n",
              "      fill: #1967D2;\n",
              "      height: 32px;\n",
              "      padding: 0 0 0 0;\n",
              "      width: 32px;\n",
              "    }\n",
              "\n",
              "    .colab-df-convert:hover {\n",
              "      background-color: #E2EBFA;\n",
              "      box-shadow: 0px 1px 2px rgba(60, 64, 67, 0.3), 0px 1px 3px 1px rgba(60, 64, 67, 0.15);\n",
              "      fill: #174EA6;\n",
              "    }\n",
              "\n",
              "    [theme=dark] .colab-df-convert {\n",
              "      background-color: #3B4455;\n",
              "      fill: #D2E3FC;\n",
              "    }\n",
              "\n",
              "    [theme=dark] .colab-df-convert:hover {\n",
              "      background-color: #434B5C;\n",
              "      box-shadow: 0px 1px 3px 1px rgba(0, 0, 0, 0.15);\n",
              "      filter: drop-shadow(0px 1px 2px rgba(0, 0, 0, 0.3));\n",
              "      fill: #FFFFFF;\n",
              "    }\n",
              "  </style>\n",
              "\n",
              "      <script>\n",
              "        const buttonEl =\n",
              "          document.querySelector('#df-85454cf2-1e19-4baf-b6bc-0af9921774b9 button.colab-df-convert');\n",
              "        buttonEl.style.display =\n",
              "          google.colab.kernel.accessAllowed ? 'block' : 'none';\n",
              "\n",
              "        async function convertToInteractive(key) {\n",
              "          const element = document.querySelector('#df-85454cf2-1e19-4baf-b6bc-0af9921774b9');\n",
              "          const dataTable =\n",
              "            await google.colab.kernel.invokeFunction('convertToInteractive',\n",
              "                                                     [key], {});\n",
              "          if (!dataTable) return;\n",
              "\n",
              "          const docLinkHtml = 'Like what you see? Visit the ' +\n",
              "            '<a target=\"_blank\" href=https://colab.research.google.com/notebooks/data_table.ipynb>data table notebook</a>'\n",
              "            + ' to learn more about interactive tables.';\n",
              "          element.innerHTML = '';\n",
              "          dataTable['output_type'] = 'display_data';\n",
              "          await google.colab.output.renderOutput(dataTable, element);\n",
              "          const docLink = document.createElement('div');\n",
              "          docLink.innerHTML = docLinkHtml;\n",
              "          element.appendChild(docLink);\n",
              "        }\n",
              "      </script>\n",
              "    </div>\n",
              "  </div>\n",
              "  "
            ]
          },
          "metadata": {},
          "execution_count": 35
        }
      ]
    },
    {
      "cell_type": "code",
      "source": [
        "from gensim.utils import simple_preprocess\n",
        "# Tokenize the text column to get the new column 'tokenized_text'\n",
        "df['tokenized_text'] = [simple_preprocess(line, deacc=True) for line in df['Message']] \n",
        "print(df['tokenized_text'].head(10))"
      ],
      "metadata": {
        "colab": {
          "base_uri": "https://localhost:8080/"
        },
        "id": "TdzW6n66oBtP",
        "outputId": "886955f4-997c-4021-d2a1-8031c02ad27f"
      },
      "id": "TdzW6n66oBtP",
      "execution_count": null,
      "outputs": [
        {
          "output_type": "stream",
          "name": "stdout",
          "text": [
            "0    [go, until, jurong, point, crazy, available, o...\n",
            "1                          [ok, lar, joking, wif, oni]\n",
            "2    [free, entry, in, wkly, comp, to, win, fa, cup...\n",
            "3       [dun, say, so, early, hor, already, then, say]\n",
            "4    [nah, don, think, he, goes, to, usf, he, lives...\n",
            "5    [freemsg, hey, there, darling, it, been, week,...\n",
            "6    [even, my, brother, is, not, like, to, speak, ...\n",
            "7    [as, per, your, request, melle, oru, minnaminu...\n",
            "8    [winner, as, valued, network, customer, you, h...\n",
            "9    [had, your, mobile, months, or, more, entitled...\n",
            "Name: tokenized_text, dtype: object\n"
          ]
        }
      ]
    },
    {
      "cell_type": "code",
      "source": [
        "\n",
        "from gensim.parsing.porter import PorterStemmer\n",
        "porter_stemmer = PorterStemmer()\n",
        "# Get the stemmed_tokens\n",
        "df['stemmed_tokens'] = [[porter_stemmer.stem(word) for word in tokens] for tokens in df['tokenized_text']]\n",
        "df['stemmed_tokens'].head(10)"
      ],
      "metadata": {
        "colab": {
          "base_uri": "https://localhost:8080/"
        },
        "id": "FDxa58-SoRVn",
        "outputId": "62fa0884-c092-45a7-c682-6d291ea9b7bf"
      },
      "id": "FDxa58-SoRVn",
      "execution_count": null,
      "outputs": [
        {
          "output_type": "execute_result",
          "data": {
            "text/plain": [
              "0    [go, until, jurong, point, crazi, avail, onli,...\n",
              "1                            [ok, lar, joke, wif, oni]\n",
              "2    [free, entri, in, wkly, comp, to, win, fa, cup...\n",
              "3       [dun, sai, so, earli, hor, alreadi, then, sai]\n",
              "4    [nah, don, think, he, goe, to, usf, he, live, ...\n",
              "5    [freemsg, hei, there, darl, it, been, week, no...\n",
              "6    [even, my, brother, is, not, like, to, speak, ...\n",
              "7    [as, per, your, request, mell, oru, minnaminun...\n",
              "8    [winner, as, valu, network, custom, you, have,...\n",
              "9    [had, your, mobil, month, or, more, entitl, to...\n",
              "Name: stemmed_tokens, dtype: object"
            ]
          },
          "metadata": {},
          "execution_count": 37
        }
      ]
    },
    {
      "cell_type": "code",
      "source": [
        "def split_train_test(top_data_df_small, test_size=0.3, shuffle_state=True):\n",
        "    X_train, X_test, Y_train, Y_test = train_test_split(df[['stemmed_tokens']], \n",
        "                                                        df['Category'], \n",
        "                                                        shuffle=shuffle_state,\n",
        "                                                        test_size=test_size, \n",
        "                                                        random_state=15)\n",
        "    print(\"Value counts for Train sentiments\")\n",
        "    print(Y_train.value_counts())\n",
        "    print(\"Value counts for Test sentiments\")\n",
        "    print(Y_test.value_counts())\n",
        "    print(type(X_train))\n",
        "    print(type(Y_train))\n",
        "    X_train = X_train.reset_index()\n",
        "    X_test = X_test.reset_index()\n",
        "    Y_train = Y_train.to_frame()\n",
        "    Y_train = Y_train.reset_index()\n",
        "    Y_test = Y_test.to_frame()\n",
        "    Y_test = Y_test.reset_index()\n",
        "    print(X_train.head())\n",
        "    return X_train, X_test, Y_train, Y_test\n",
        "\n",
        "# Call the train_test_split\n",
        "X_train, X_test, Y_train, Y_test = split_train_test(df)"
      ],
      "metadata": {
        "colab": {
          "base_uri": "https://localhost:8080/"
        },
        "id": "hj6rywf_oaq1",
        "outputId": "3ba04603-1177-40e7-e767-2c1dacc4af9b"
      },
      "id": "hj6rywf_oaq1",
      "execution_count": null,
      "outputs": [
        {
          "output_type": "stream",
          "name": "stdout",
          "text": [
            "Value counts for Train sentiments\n",
            "0    3377\n",
            "1     523\n",
            "Name: Category, dtype: int64\n",
            "Value counts for Test sentiments\n",
            "0    1448\n",
            "1     224\n",
            "Name: Category, dtype: int64\n",
            "<class 'pandas.core.frame.DataFrame'>\n",
            "<class 'pandas.core.series.Series'>\n",
            "   index                                     stemmed_tokens\n",
            "0    688  [dear, me, at, cherthala, in, case, come, coch...\n",
            "1    800                    [gimm, few, wa, lt, minut, ago]\n",
            "2   4990  [so, your, tell, me, coulda, been, your, real,...\n",
            "3   5345                                     [wat, do, now]\n",
            "4   3044           [your, bill, at, is, so, that, not, bad]\n"
          ]
        }
      ]
    },
    {
      "cell_type": "code",
      "source": [
        "from gensim.models import Word2Vec\n",
        "import time\n",
        "\n",
        "# Skip-gram model (sg = 1)\n",
        "size = 1000\n",
        "window = 10\n",
        "min_count = 1\n",
        "workers = 3\n",
        "sg = 0\n",
        "\n",
        "# word2vec_model_file = OUTPUT_FOLDER + 'word2vec_' + str(size) + '.model'\n",
        "start_time = time.time()\n",
        "stemmed_tokens = pd.Series(df['stemmed_tokens']).values\n",
        "# Train the Word2Vec Model\n",
        "w2v_model = Word2Vec(stemmed_tokens, min_count = min_count, size = size, workers = workers, window = window, sg = sg)\n",
        "print(\"Time taken to train word2vec model: \" + str(time.time() - start_time))\n",
        "# w2v_model.save(word2vec_model_file)"
      ],
      "metadata": {
        "colab": {
          "base_uri": "https://localhost:8080/"
        },
        "id": "-8Ev5jvOo74i",
        "outputId": "d3bb4e9d-f209-4f6b-c858-83f5695c275d"
      },
      "id": "-8Ev5jvOo74i",
      "execution_count": null,
      "outputs": [
        {
          "output_type": "stream",
          "name": "stdout",
          "text": [
            "Time taken to train word2vec model: 3.3142993450164795\n"
          ]
        }
      ]
    },
    {
      "cell_type": "code",
      "source": [
        "print(\"Index of the word 'action':\")\n",
        "# print(w2v_model.wv.vocab[\"action\"].index)\n",
        "# Total number of the words \n",
        "print(len(w2v_model.wv.vocab))\n",
        "# Print the size of the word2vec vector for one word\n",
        "print(\"Length of the vector generated for a word\")\n",
        "# print(len(w2v_model['action']))\n",
        "# Get the mean for the vectors for an example review\n",
        "print(\"Print the length after taking average of all word vectors in a sentence:\")\n",
        "# print(np.mean([w2v_model[token] for token in df['stemmed_tokens'][0]], axis=0))\n"
      ],
      "metadata": {
        "colab": {
          "base_uri": "https://localhost:8080/"
        },
        "id": "I2oTrzZ5pEt4",
        "outputId": "e15bee12-6764-4112-ceff-73799a31139b"
      },
      "id": "I2oTrzZ5pEt4",
      "execution_count": null,
      "outputs": [
        {
          "output_type": "stream",
          "name": "stdout",
          "text": [
            "Index of the word 'action':\n",
            "6186\n",
            "Length of the vector generated for a word\n",
            "Print the length after taking average of all word vectors in a sentence:\n"
          ]
        }
      ]
    },
    {
      "cell_type": "code",
      "source": [
        "word2vec_filename = 'train_review_word2vec.csv'\n",
        "with open(word2vec_filename, 'w+') as word2vec_file:\n",
        "    for index, row in X_train.iterrows():\n",
        "        model_vector = (np.mean([w2v_model[token] for token in row['stemmed_tokens']], axis=0)).tolist()\n",
        "        if index == 0:\n",
        "            header = \",\".join(str(ele) for ele in range(1000))\n",
        "            word2vec_file.write(header)\n",
        "            word2vec_file.write(\"\\n\")\n",
        "        # Check if the line exists else it is vector of zeros\n",
        "        if type(model_vector) is list:  \n",
        "            line1 = \",\".join( [str(vector_element) for vector_element in model_vector] )\n",
        "        else:\n",
        "            line1 = \",\".join([str(0) for i in range(1000)])\n",
        "        word2vec_file.write(line1)\n",
        "        word2vec_file.write('\\n')"
      ],
      "metadata": {
        "colab": {
          "base_uri": "https://localhost:8080/"
        },
        "id": "IZxmeeQmpOuz",
        "outputId": "9d9facaf-dbc0-47b9-d26b-bfc5e64198b9"
      },
      "id": "IZxmeeQmpOuz",
      "execution_count": null,
      "outputs": [
        {
          "output_type": "stream",
          "name": "stderr",
          "text": [
            "/usr/local/lib/python3.7/dist-packages/ipykernel_launcher.py:4: DeprecationWarning: Call to deprecated `__getitem__` (Method will be removed in 4.0.0, use self.wv.__getitem__() instead).\n",
            "  after removing the cwd from sys.path.\n",
            "/usr/local/lib/python3.7/dist-packages/numpy/core/fromnumeric.py:3441: RuntimeWarning: Mean of empty slice.\n",
            "  out=out, **kwargs)\n",
            "/usr/local/lib/python3.7/dist-packages/numpy/core/_methods.py:189: RuntimeWarning: invalid value encountered in double_scalars\n",
            "  ret = ret.dtype.type(ret / rcount)\n"
          ]
        }
      ]
    },
    {
      "cell_type": "code",
      "source": [
        "word2vec_df = pd.read_csv(word2vec_filename)\n",
        "word2vec_df.head()"
      ],
      "metadata": {
        "colab": {
          "base_uri": "https://localhost:8080/",
          "height": 300
        },
        "id": "rhJY3MlRpvUK",
        "outputId": "8246fe49-4b3d-4bf2-81a5-30231a0ed639"
      },
      "id": "rhJY3MlRpvUK",
      "execution_count": null,
      "outputs": [
        {
          "output_type": "execute_result",
          "data": {
            "text/plain": [
              "          0         1         2         3         4         5         6  \\\n",
              "0  0.068926  0.225933  0.371986 -0.036024 -0.194419 -0.161280 -0.021689   \n",
              "1  0.058187  0.189866  0.312698 -0.029909 -0.164023 -0.136044 -0.018457   \n",
              "2  0.075512  0.247578  0.407726 -0.039786 -0.212968 -0.176130 -0.023741   \n",
              "3  0.091567  0.299684  0.494011 -0.048033 -0.257569 -0.214177 -0.028271   \n",
              "4  0.096545  0.315623  0.519412 -0.049690 -0.271480 -0.225422 -0.030426   \n",
              "\n",
              "          7         8         9  ...       990       991       992       993  \\\n",
              "0  0.151048 -0.007574  0.252238  ... -0.032758 -0.028815 -0.068177  0.032769   \n",
              "1  0.127234 -0.006427  0.212192  ... -0.027727 -0.024046 -0.057587  0.027623   \n",
              "2  0.165809 -0.008314  0.276534  ... -0.035473 -0.031617 -0.074144  0.035375   \n",
              "3  0.200558 -0.010170  0.334439  ... -0.043511 -0.038064 -0.089876  0.043304   \n",
              "4  0.210386 -0.010462  0.351854  ... -0.045414 -0.040281 -0.094821  0.045383   \n",
              "\n",
              "        994       995       996       997       998       999  \n",
              "0  0.030125 -0.138109  0.321199 -0.078571  0.094888  0.160082  \n",
              "1  0.025284 -0.117171  0.271285 -0.066413  0.080224  0.134933  \n",
              "2  0.032681 -0.150678  0.351488 -0.085524  0.103466  0.174866  \n",
              "3  0.040009 -0.182432  0.425895 -0.103984  0.124947  0.212173  \n",
              "4  0.041744 -0.193537  0.449081 -0.110065  0.132845  0.224251  \n",
              "\n",
              "[5 rows x 1000 columns]"
            ],
            "text/html": [
              "\n",
              "  <div id=\"df-2082c6d1-2b48-4a68-92ca-f005ae56434f\">\n",
              "    <div class=\"colab-df-container\">\n",
              "      <div>\n",
              "<style scoped>\n",
              "    .dataframe tbody tr th:only-of-type {\n",
              "        vertical-align: middle;\n",
              "    }\n",
              "\n",
              "    .dataframe tbody tr th {\n",
              "        vertical-align: top;\n",
              "    }\n",
              "\n",
              "    .dataframe thead th {\n",
              "        text-align: right;\n",
              "    }\n",
              "</style>\n",
              "<table border=\"1\" class=\"dataframe\">\n",
              "  <thead>\n",
              "    <tr style=\"text-align: right;\">\n",
              "      <th></th>\n",
              "      <th>0</th>\n",
              "      <th>1</th>\n",
              "      <th>2</th>\n",
              "      <th>3</th>\n",
              "      <th>4</th>\n",
              "      <th>5</th>\n",
              "      <th>6</th>\n",
              "      <th>7</th>\n",
              "      <th>8</th>\n",
              "      <th>9</th>\n",
              "      <th>...</th>\n",
              "      <th>990</th>\n",
              "      <th>991</th>\n",
              "      <th>992</th>\n",
              "      <th>993</th>\n",
              "      <th>994</th>\n",
              "      <th>995</th>\n",
              "      <th>996</th>\n",
              "      <th>997</th>\n",
              "      <th>998</th>\n",
              "      <th>999</th>\n",
              "    </tr>\n",
              "  </thead>\n",
              "  <tbody>\n",
              "    <tr>\n",
              "      <th>0</th>\n",
              "      <td>0.068926</td>\n",
              "      <td>0.225933</td>\n",
              "      <td>0.371986</td>\n",
              "      <td>-0.036024</td>\n",
              "      <td>-0.194419</td>\n",
              "      <td>-0.161280</td>\n",
              "      <td>-0.021689</td>\n",
              "      <td>0.151048</td>\n",
              "      <td>-0.007574</td>\n",
              "      <td>0.252238</td>\n",
              "      <td>...</td>\n",
              "      <td>-0.032758</td>\n",
              "      <td>-0.028815</td>\n",
              "      <td>-0.068177</td>\n",
              "      <td>0.032769</td>\n",
              "      <td>0.030125</td>\n",
              "      <td>-0.138109</td>\n",
              "      <td>0.321199</td>\n",
              "      <td>-0.078571</td>\n",
              "      <td>0.094888</td>\n",
              "      <td>0.160082</td>\n",
              "    </tr>\n",
              "    <tr>\n",
              "      <th>1</th>\n",
              "      <td>0.058187</td>\n",
              "      <td>0.189866</td>\n",
              "      <td>0.312698</td>\n",
              "      <td>-0.029909</td>\n",
              "      <td>-0.164023</td>\n",
              "      <td>-0.136044</td>\n",
              "      <td>-0.018457</td>\n",
              "      <td>0.127234</td>\n",
              "      <td>-0.006427</td>\n",
              "      <td>0.212192</td>\n",
              "      <td>...</td>\n",
              "      <td>-0.027727</td>\n",
              "      <td>-0.024046</td>\n",
              "      <td>-0.057587</td>\n",
              "      <td>0.027623</td>\n",
              "      <td>0.025284</td>\n",
              "      <td>-0.117171</td>\n",
              "      <td>0.271285</td>\n",
              "      <td>-0.066413</td>\n",
              "      <td>0.080224</td>\n",
              "      <td>0.134933</td>\n",
              "    </tr>\n",
              "    <tr>\n",
              "      <th>2</th>\n",
              "      <td>0.075512</td>\n",
              "      <td>0.247578</td>\n",
              "      <td>0.407726</td>\n",
              "      <td>-0.039786</td>\n",
              "      <td>-0.212968</td>\n",
              "      <td>-0.176130</td>\n",
              "      <td>-0.023741</td>\n",
              "      <td>0.165809</td>\n",
              "      <td>-0.008314</td>\n",
              "      <td>0.276534</td>\n",
              "      <td>...</td>\n",
              "      <td>-0.035473</td>\n",
              "      <td>-0.031617</td>\n",
              "      <td>-0.074144</td>\n",
              "      <td>0.035375</td>\n",
              "      <td>0.032681</td>\n",
              "      <td>-0.150678</td>\n",
              "      <td>0.351488</td>\n",
              "      <td>-0.085524</td>\n",
              "      <td>0.103466</td>\n",
              "      <td>0.174866</td>\n",
              "    </tr>\n",
              "    <tr>\n",
              "      <th>3</th>\n",
              "      <td>0.091567</td>\n",
              "      <td>0.299684</td>\n",
              "      <td>0.494011</td>\n",
              "      <td>-0.048033</td>\n",
              "      <td>-0.257569</td>\n",
              "      <td>-0.214177</td>\n",
              "      <td>-0.028271</td>\n",
              "      <td>0.200558</td>\n",
              "      <td>-0.010170</td>\n",
              "      <td>0.334439</td>\n",
              "      <td>...</td>\n",
              "      <td>-0.043511</td>\n",
              "      <td>-0.038064</td>\n",
              "      <td>-0.089876</td>\n",
              "      <td>0.043304</td>\n",
              "      <td>0.040009</td>\n",
              "      <td>-0.182432</td>\n",
              "      <td>0.425895</td>\n",
              "      <td>-0.103984</td>\n",
              "      <td>0.124947</td>\n",
              "      <td>0.212173</td>\n",
              "    </tr>\n",
              "    <tr>\n",
              "      <th>4</th>\n",
              "      <td>0.096545</td>\n",
              "      <td>0.315623</td>\n",
              "      <td>0.519412</td>\n",
              "      <td>-0.049690</td>\n",
              "      <td>-0.271480</td>\n",
              "      <td>-0.225422</td>\n",
              "      <td>-0.030426</td>\n",
              "      <td>0.210386</td>\n",
              "      <td>-0.010462</td>\n",
              "      <td>0.351854</td>\n",
              "      <td>...</td>\n",
              "      <td>-0.045414</td>\n",
              "      <td>-0.040281</td>\n",
              "      <td>-0.094821</td>\n",
              "      <td>0.045383</td>\n",
              "      <td>0.041744</td>\n",
              "      <td>-0.193537</td>\n",
              "      <td>0.449081</td>\n",
              "      <td>-0.110065</td>\n",
              "      <td>0.132845</td>\n",
              "      <td>0.224251</td>\n",
              "    </tr>\n",
              "  </tbody>\n",
              "</table>\n",
              "<p>5 rows × 1000 columns</p>\n",
              "</div>\n",
              "      <button class=\"colab-df-convert\" onclick=\"convertToInteractive('df-2082c6d1-2b48-4a68-92ca-f005ae56434f')\"\n",
              "              title=\"Convert this dataframe to an interactive table.\"\n",
              "              style=\"display:none;\">\n",
              "        \n",
              "  <svg xmlns=\"http://www.w3.org/2000/svg\" height=\"24px\"viewBox=\"0 0 24 24\"\n",
              "       width=\"24px\">\n",
              "    <path d=\"M0 0h24v24H0V0z\" fill=\"none\"/>\n",
              "    <path d=\"M18.56 5.44l.94 2.06.94-2.06 2.06-.94-2.06-.94-.94-2.06-.94 2.06-2.06.94zm-11 1L8.5 8.5l.94-2.06 2.06-.94-2.06-.94L8.5 2.5l-.94 2.06-2.06.94zm10 10l.94 2.06.94-2.06 2.06-.94-2.06-.94-.94-2.06-.94 2.06-2.06.94z\"/><path d=\"M17.41 7.96l-1.37-1.37c-.4-.4-.92-.59-1.43-.59-.52 0-1.04.2-1.43.59L10.3 9.45l-7.72 7.72c-.78.78-.78 2.05 0 2.83L4 21.41c.39.39.9.59 1.41.59.51 0 1.02-.2 1.41-.59l7.78-7.78 2.81-2.81c.8-.78.8-2.07 0-2.86zM5.41 20L4 18.59l7.72-7.72 1.47 1.35L5.41 20z\"/>\n",
              "  </svg>\n",
              "      </button>\n",
              "      \n",
              "  <style>\n",
              "    .colab-df-container {\n",
              "      display:flex;\n",
              "      flex-wrap:wrap;\n",
              "      gap: 12px;\n",
              "    }\n",
              "\n",
              "    .colab-df-convert {\n",
              "      background-color: #E8F0FE;\n",
              "      border: none;\n",
              "      border-radius: 50%;\n",
              "      cursor: pointer;\n",
              "      display: none;\n",
              "      fill: #1967D2;\n",
              "      height: 32px;\n",
              "      padding: 0 0 0 0;\n",
              "      width: 32px;\n",
              "    }\n",
              "\n",
              "    .colab-df-convert:hover {\n",
              "      background-color: #E2EBFA;\n",
              "      box-shadow: 0px 1px 2px rgba(60, 64, 67, 0.3), 0px 1px 3px 1px rgba(60, 64, 67, 0.15);\n",
              "      fill: #174EA6;\n",
              "    }\n",
              "\n",
              "    [theme=dark] .colab-df-convert {\n",
              "      background-color: #3B4455;\n",
              "      fill: #D2E3FC;\n",
              "    }\n",
              "\n",
              "    [theme=dark] .colab-df-convert:hover {\n",
              "      background-color: #434B5C;\n",
              "      box-shadow: 0px 1px 3px 1px rgba(0, 0, 0, 0.15);\n",
              "      filter: drop-shadow(0px 1px 2px rgba(0, 0, 0, 0.3));\n",
              "      fill: #FFFFFF;\n",
              "    }\n",
              "  </style>\n",
              "\n",
              "      <script>\n",
              "        const buttonEl =\n",
              "          document.querySelector('#df-2082c6d1-2b48-4a68-92ca-f005ae56434f button.colab-df-convert');\n",
              "        buttonEl.style.display =\n",
              "          google.colab.kernel.accessAllowed ? 'block' : 'none';\n",
              "\n",
              "        async function convertToInteractive(key) {\n",
              "          const element = document.querySelector('#df-2082c6d1-2b48-4a68-92ca-f005ae56434f');\n",
              "          const dataTable =\n",
              "            await google.colab.kernel.invokeFunction('convertToInteractive',\n",
              "                                                     [key], {});\n",
              "          if (!dataTable) return;\n",
              "\n",
              "          const docLinkHtml = 'Like what you see? Visit the ' +\n",
              "            '<a target=\"_blank\" href=https://colab.research.google.com/notebooks/data_table.ipynb>data table notebook</a>'\n",
              "            + ' to learn more about interactive tables.';\n",
              "          element.innerHTML = '';\n",
              "          dataTable['output_type'] = 'display_data';\n",
              "          await google.colab.output.renderOutput(dataTable, element);\n",
              "          const docLink = document.createElement('div');\n",
              "          docLink.innerHTML = docLinkHtml;\n",
              "          element.appendChild(docLink);\n",
              "        }\n",
              "      </script>\n",
              "    </div>\n",
              "  </div>\n",
              "  "
            ]
          },
          "metadata": {},
          "execution_count": 55
        }
      ]
    },
    {
      "cell_type": "code",
      "source": [
        "word2vec_df.shape"
      ],
      "metadata": {
        "colab": {
          "base_uri": "https://localhost:8080/"
        },
        "id": "1HmtNIjyrMLu",
        "outputId": "63ed6f20-3fa0-4d7f-ef51-51dfda04e351"
      },
      "id": "1HmtNIjyrMLu",
      "execution_count": null,
      "outputs": [
        {
          "output_type": "execute_result",
          "data": {
            "text/plain": [
              "(3900, 1000)"
            ]
          },
          "metadata": {},
          "execution_count": 56
        }
      ]
    },
    {
      "cell_type": "code",
      "source": [
        "#Initialize the model\n",
        "clf_decision_word2vec = DecisionTreeClassifier()\n",
        "\n",
        "start_time = time.time()\n",
        "# Fit the model\n",
        "clf_decision_word2vec.fit(word2vec_df, Y_train['Category'])\n",
        "print(\"Time taken to fit the model with word2vec vectors: \" + str(time.time() - start_time))\n"
      ],
      "metadata": {
        "colab": {
          "base_uri": "https://localhost:8080/"
        },
        "id": "LfG6ztmqp4NH",
        "outputId": "ebc584fa-136f-4901-e312-2e9771a1c8d9"
      },
      "id": "LfG6ztmqp4NH",
      "execution_count": null,
      "outputs": [
        {
          "output_type": "stream",
          "name": "stdout",
          "text": [
            "Time taken to fit the model with word2vec vectors: 3.5202829837799072\n"
          ]
        }
      ]
    },
    {
      "cell_type": "code",
      "source": [
        "from sklearn.metrics import classification_report\n",
        "test_features_word2vec = []\n",
        "for index, row in X_test.iterrows():\n",
        "    model_vector = np.mean([w2v_model[token] for token in row['stemmed_tokens']], axis=0)\n",
        "    if type(model_vector) is list:\n",
        "        test_features_word2vec.append(model_vector)\n",
        "    else:\n",
        "        test_features_word2vec.append(np.array([0 for i in range(1000)]))\n",
        "test_predictions_word2vec = clf_decision_word2vec.predict(test_features_word2vec)\n",
        "print(classification_report(Y_test['Category'],test_predictions_word2vec))"
      ],
      "metadata": {
        "colab": {
          "base_uri": "https://localhost:8080/"
        },
        "id": "-waYWvA0qD6w",
        "outputId": "29ce82d1-713d-4928-ed06-a4891bbf6856"
      },
      "id": "-waYWvA0qD6w",
      "execution_count": null,
      "outputs": [
        {
          "output_type": "stream",
          "name": "stderr",
          "text": [
            "/usr/local/lib/python3.7/dist-packages/ipykernel_launcher.py:4: DeprecationWarning: Call to deprecated `__getitem__` (Method will be removed in 4.0.0, use self.wv.__getitem__() instead).\n",
            "  after removing the cwd from sys.path.\n",
            "/usr/local/lib/python3.7/dist-packages/numpy/core/fromnumeric.py:3441: RuntimeWarning: Mean of empty slice.\n",
            "  out=out, **kwargs)\n",
            "/usr/local/lib/python3.7/dist-packages/numpy/core/_methods.py:189: RuntimeWarning: invalid value encountered in double_scalars\n",
            "  ret = ret.dtype.type(ret / rcount)\n"
          ]
        },
        {
          "output_type": "stream",
          "name": "stdout",
          "text": [
            "              precision    recall  f1-score   support\n",
            "\n",
            "           0       0.87      1.00      0.93      1448\n",
            "           1       0.00      0.00      0.00       224\n",
            "\n",
            "    accuracy                           0.87      1672\n",
            "   macro avg       0.43      0.50      0.46      1672\n",
            "weighted avg       0.75      0.87      0.80      1672\n",
            "\n"
          ]
        },
        {
          "output_type": "stream",
          "name": "stderr",
          "text": [
            "/usr/local/lib/python3.7/dist-packages/sklearn/base.py:451: UserWarning: X does not have valid feature names, but DecisionTreeClassifier was fitted with feature names\n",
            "  \"X does not have valid feature names, but\"\n",
            "/usr/local/lib/python3.7/dist-packages/sklearn/metrics/_classification.py:1318: UndefinedMetricWarning: Precision and F-score are ill-defined and being set to 0.0 in labels with no predicted samples. Use `zero_division` parameter to control this behavior.\n",
            "  _warn_prf(average, modifier, msg_start, len(result))\n",
            "/usr/local/lib/python3.7/dist-packages/sklearn/metrics/_classification.py:1318: UndefinedMetricWarning: Precision and F-score are ill-defined and being set to 0.0 in labels with no predicted samples. Use `zero_division` parameter to control this behavior.\n",
            "  _warn_prf(average, modifier, msg_start, len(result))\n",
            "/usr/local/lib/python3.7/dist-packages/sklearn/metrics/_classification.py:1318: UndefinedMetricWarning: Precision and F-score are ill-defined and being set to 0.0 in labels with no predicted samples. Use `zero_division` parameter to control this behavior.\n",
            "  _warn_prf(average, modifier, msg_start, len(result))\n"
          ]
        }
      ]
    },
    {
      "cell_type": "code",
      "source": [],
      "metadata": {
        "id": "w4i_axaJqLq0"
      },
      "id": "w4i_axaJqLq0",
      "execution_count": null,
      "outputs": []
    }
  ],
  "metadata": {
    "kernelspec": {
      "display_name": "Python 3",
      "language": "python",
      "name": "python3"
    },
    "language_info": {
      "codemirror_mode": {
        "name": "ipython",
        "version": 3
      },
      "file_extension": ".py",
      "mimetype": "text/x-python",
      "name": "python",
      "nbconvert_exporter": "python",
      "pygments_lexer": "ipython3",
      "version": "3.8.8"
    },
    "colab": {
      "provenance": [],
      "collapsed_sections": []
    }
  },
  "nbformat": 4,
  "nbformat_minor": 5
}